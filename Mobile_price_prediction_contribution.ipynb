{
  "cells": [
    {
      "cell_type": "code",
      "execution_count": null,
      "metadata": {
        "id": "zyTvvrAA8AXo"
      },
      "outputs": [],
      "source": [
        "import numpy as np\n",
        "import matplotlib.pyplot as plt\n",
        "import seaborn as se\n",
        "import pandas as pd"
      ]
    },
    {
      "cell_type": "code",
      "execution_count": null,
      "metadata": {
        "id": "qGGIZDJ28rn9"
      },
      "outputs": [],
      "source": [
        "df=pd.read_csv('/content/MobileDataset.csv')"
      ]
    },
    {
      "cell_type": "code",
      "execution_count": null,
      "metadata": {
        "colab": {
          "base_uri": "https://localhost:8080/"
        },
        "id": "5uDALhiY83Vh",
        "outputId": "17961e02-073f-4ad5-8230-cc2da9408d8c"
      },
      "outputs": [
        {
          "data": {
            "text/plain": [
              "(836, 10)"
            ]
          },
          "execution_count": 5,
          "metadata": {},
          "output_type": "execute_result"
        }
      ],
      "source": [
        "df.shape"
      ]
    },
    {
      "cell_type": "code",
      "execution_count": null,
      "metadata": {
        "colab": {
          "base_uri": "https://localhost:8080/"
        },
        "id": "18c8VvIK84nx",
        "outputId": "30b85792-10ff-481e-c04d-df13423628bd"
      },
      "outputs": [
        {
          "data": {
            "text/plain": [
              "<bound method DataFrame.info of      Unnamed: 0                         Brand me  Ratings   RAM    ROM  \\\n",
              "0             0            LG V30+ (Black, 128 )      4.3   4.0  128.0   \n",
              "1             1                       I Kall K11      3.4   6.0   64.0   \n",
              "2             2                     Nokia 105 ss      4.3   4.0    4.0   \n",
              "3             3  Samsung Galaxy A50 (White, 64 )      4.4   6.0   64.0   \n",
              "4             4       POCO F1 (Steel Blue, 128 )      4.5   6.0  128.0   \n",
              "..          ...                              ...      ...   ...    ...   \n",
              "831         831             Karbonn K24 Plus Pro      3.8   6.0   32.0   \n",
              "832         832                  InFocus POWER 2      4.1   8.0   64.0   \n",
              "833         833  Alcatel 5V (Spectrum Blue, 32 )      4.4   3.0   32.0   \n",
              "834         834                      JIVI JV 12M      3.7  10.0   32.0   \n",
              "835         835                  Blacear B5 Grip      3.5   6.0   32.0   \n",
              "\n",
              "     Mobile_Size  Primary_Cam  Selfi_Cam  Battery_Power  Price  \n",
              "0           6.00           48       13.0           4000  24999  \n",
              "1           4.50           48       12.0           4000  15999  \n",
              "2           4.50           64       16.0           4000  15000  \n",
              "3           6.40           48       15.0           3800  18999  \n",
              "4           6.18           35       15.0           3800  18999  \n",
              "..           ...          ...        ...            ...    ...  \n",
              "831         4.54           48       12.0           2800   1299  \n",
              "832         4.54           64        NaN           2500   1390  \n",
              "833         6.20           48        1.0           3800   9790  \n",
              "834         4.50           64        NaN           3500    799  \n",
              "835         4.50           64       15.0           1050    799  \n",
              "\n",
              "[836 rows x 10 columns]>"
            ]
          },
          "execution_count": 6,
          "metadata": {},
          "output_type": "execute_result"
        }
      ],
      "source": [
        "df.info"
      ]
    },
    {
      "cell_type": "code",
      "execution_count": null,
      "metadata": {
        "colab": {
          "base_uri": "https://localhost:8080/",
          "height": 300
        },
        "id": "-5RcgCSP86JF",
        "outputId": "c300875e-d44c-4469-fe11-82ae4a358fbb"
      },
      "outputs": [
        {
          "data": {
            "text/html": [
              "\n",
              "  <div id=\"df-38f8f0a7-9738-41c8-bf6f-57f625fc905a\">\n",
              "    <div class=\"colab-df-container\">\n",
              "      <div>\n",
              "<style scoped>\n",
              "    .dataframe tbody tr th:only-of-type {\n",
              "        vertical-align: middle;\n",
              "    }\n",
              "\n",
              "    .dataframe tbody tr th {\n",
              "        vertical-align: top;\n",
              "    }\n",
              "\n",
              "    .dataframe thead th {\n",
              "        text-align: right;\n",
              "    }\n",
              "</style>\n",
              "<table border=\"1\" class=\"dataframe\">\n",
              "  <thead>\n",
              "    <tr style=\"text-align: right;\">\n",
              "      <th></th>\n",
              "      <th>Unnamed: 0</th>\n",
              "      <th>Ratings</th>\n",
              "      <th>RAM</th>\n",
              "      <th>ROM</th>\n",
              "      <th>Mobile_Size</th>\n",
              "      <th>Primary_Cam</th>\n",
              "      <th>Selfi_Cam</th>\n",
              "      <th>Battery_Power</th>\n",
              "      <th>Price</th>\n",
              "    </tr>\n",
              "  </thead>\n",
              "  <tbody>\n",
              "    <tr>\n",
              "      <th>count</th>\n",
              "      <td>836.000000</td>\n",
              "      <td>805.000000</td>\n",
              "      <td>829.000000</td>\n",
              "      <td>832.000000</td>\n",
              "      <td>834.000000</td>\n",
              "      <td>836.000000</td>\n",
              "      <td>567.000000</td>\n",
              "      <td>836.000000</td>\n",
              "      <td>836.00000</td>\n",
              "    </tr>\n",
              "    <tr>\n",
              "      <th>mean</th>\n",
              "      <td>417.500000</td>\n",
              "      <td>4.103106</td>\n",
              "      <td>6.066345</td>\n",
              "      <td>64.373077</td>\n",
              "      <td>5.597282</td>\n",
              "      <td>47.983254</td>\n",
              "      <td>9.784832</td>\n",
              "      <td>3274.688995</td>\n",
              "      <td>18220.34689</td>\n",
              "    </tr>\n",
              "    <tr>\n",
              "      <th>std</th>\n",
              "      <td>241.476707</td>\n",
              "      <td>0.365356</td>\n",
              "      <td>2.530336</td>\n",
              "      <td>53.447825</td>\n",
              "      <td>3.898664</td>\n",
              "      <td>11.170093</td>\n",
              "      <td>6.503838</td>\n",
              "      <td>927.518852</td>\n",
              "      <td>52805.55022</td>\n",
              "    </tr>\n",
              "    <tr>\n",
              "      <th>min</th>\n",
              "      <td>0.000000</td>\n",
              "      <td>2.800000</td>\n",
              "      <td>0.000000</td>\n",
              "      <td>0.000000</td>\n",
              "      <td>2.000000</td>\n",
              "      <td>5.000000</td>\n",
              "      <td>0.000000</td>\n",
              "      <td>1020.000000</td>\n",
              "      <td>479.00000</td>\n",
              "    </tr>\n",
              "    <tr>\n",
              "      <th>25%</th>\n",
              "      <td>208.750000</td>\n",
              "      <td>3.800000</td>\n",
              "      <td>6.000000</td>\n",
              "      <td>32.000000</td>\n",
              "      <td>4.500000</td>\n",
              "      <td>48.000000</td>\n",
              "      <td>5.000000</td>\n",
              "      <td>3000.000000</td>\n",
              "      <td>984.75000</td>\n",
              "    </tr>\n",
              "    <tr>\n",
              "      <th>50%</th>\n",
              "      <td>417.500000</td>\n",
              "      <td>4.100000</td>\n",
              "      <td>6.000000</td>\n",
              "      <td>40.000000</td>\n",
              "      <td>4.770000</td>\n",
              "      <td>48.000000</td>\n",
              "      <td>8.000000</td>\n",
              "      <td>3000.000000</td>\n",
              "      <td>1697.00000</td>\n",
              "    </tr>\n",
              "    <tr>\n",
              "      <th>75%</th>\n",
              "      <td>626.250000</td>\n",
              "      <td>4.400000</td>\n",
              "      <td>6.000000</td>\n",
              "      <td>64.000000</td>\n",
              "      <td>6.300000</td>\n",
              "      <td>48.000000</td>\n",
              "      <td>13.000000</td>\n",
              "      <td>3800.000000</td>\n",
              "      <td>18999.00000</td>\n",
              "    </tr>\n",
              "    <tr>\n",
              "      <th>max</th>\n",
              "      <td>835.000000</td>\n",
              "      <td>4.800000</td>\n",
              "      <td>34.000000</td>\n",
              "      <td>256.000000</td>\n",
              "      <td>44.000000</td>\n",
              "      <td>64.000000</td>\n",
              "      <td>61.000000</td>\n",
              "      <td>6000.000000</td>\n",
              "      <td>573000.00000</td>\n",
              "    </tr>\n",
              "  </tbody>\n",
              "</table>\n",
              "</div>\n",
              "      <button class=\"colab-df-convert\" onclick=\"convertToInteractive('df-38f8f0a7-9738-41c8-bf6f-57f625fc905a')\"\n",
              "              title=\"Convert this dataframe to an interactive table.\"\n",
              "              style=\"display:none;\">\n",
              "        \n",
              "  <svg xmlns=\"http://www.w3.org/2000/svg\" height=\"24px\"viewBox=\"0 0 24 24\"\n",
              "       width=\"24px\">\n",
              "    <path d=\"M0 0h24v24H0V0z\" fill=\"none\"/>\n",
              "    <path d=\"M18.56 5.44l.94 2.06.94-2.06 2.06-.94-2.06-.94-.94-2.06-.94 2.06-2.06.94zm-11 1L8.5 8.5l.94-2.06 2.06-.94-2.06-.94L8.5 2.5l-.94 2.06-2.06.94zm10 10l.94 2.06.94-2.06 2.06-.94-2.06-.94-.94-2.06-.94 2.06-2.06.94z\"/><path d=\"M17.41 7.96l-1.37-1.37c-.4-.4-.92-.59-1.43-.59-.52 0-1.04.2-1.43.59L10.3 9.45l-7.72 7.72c-.78.78-.78 2.05 0 2.83L4 21.41c.39.39.9.59 1.41.59.51 0 1.02-.2 1.41-.59l7.78-7.78 2.81-2.81c.8-.78.8-2.07 0-2.86zM5.41 20L4 18.59l7.72-7.72 1.47 1.35L5.41 20z\"/>\n",
              "  </svg>\n",
              "      </button>\n",
              "      \n",
              "  <style>\n",
              "    .colab-df-container {\n",
              "      display:flex;\n",
              "      flex-wrap:wrap;\n",
              "      gap: 12px;\n",
              "    }\n",
              "\n",
              "    .colab-df-convert {\n",
              "      background-color: #E8F0FE;\n",
              "      border: none;\n",
              "      border-radius: 50%;\n",
              "      cursor: pointer;\n",
              "      display: none;\n",
              "      fill: #1967D2;\n",
              "      height: 32px;\n",
              "      padding: 0 0 0 0;\n",
              "      width: 32px;\n",
              "    }\n",
              "\n",
              "    .colab-df-convert:hover {\n",
              "      background-color: #E2EBFA;\n",
              "      box-shadow: 0px 1px 2px rgba(60, 64, 67, 0.3), 0px 1px 3px 1px rgba(60, 64, 67, 0.15);\n",
              "      fill: #174EA6;\n",
              "    }\n",
              "\n",
              "    [theme=dark] .colab-df-convert {\n",
              "      background-color: #3B4455;\n",
              "      fill: #D2E3FC;\n",
              "    }\n",
              "\n",
              "    [theme=dark] .colab-df-convert:hover {\n",
              "      background-color: #434B5C;\n",
              "      box-shadow: 0px 1px 3px 1px rgba(0, 0, 0, 0.15);\n",
              "      filter: drop-shadow(0px 1px 2px rgba(0, 0, 0, 0.3));\n",
              "      fill: #FFFFFF;\n",
              "    }\n",
              "  </style>\n",
              "\n",
              "      <script>\n",
              "        const buttonEl =\n",
              "          document.querySelector('#df-38f8f0a7-9738-41c8-bf6f-57f625fc905a button.colab-df-convert');\n",
              "        buttonEl.style.display =\n",
              "          google.colab.kernel.accessAllowed ? 'block' : 'none';\n",
              "\n",
              "        async function convertToInteractive(key) {\n",
              "          const element = document.querySelector('#df-38f8f0a7-9738-41c8-bf6f-57f625fc905a');\n",
              "          const dataTable =\n",
              "            await google.colab.kernel.invokeFunction('convertToInteractive',\n",
              "                                                     [key], {});\n",
              "          if (!dataTable) return;\n",
              "\n",
              "          const docLinkHtml = 'Like what you see? Visit the ' +\n",
              "            '<a target=\"_blank\" href=https://colab.research.google.com/notebooks/data_table.ipynb>data table notebook</a>'\n",
              "            + ' to learn more about interactive tables.';\n",
              "          element.innerHTML = '';\n",
              "          dataTable['output_type'] = 'display_data';\n",
              "          await google.colab.output.renderOutput(dataTable, element);\n",
              "          const docLink = document.createElement('div');\n",
              "          docLink.innerHTML = docLinkHtml;\n",
              "          element.appendChild(docLink);\n",
              "        }\n",
              "      </script>\n",
              "    </div>\n",
              "  </div>\n",
              "  "
            ],
            "text/plain": [
              "       Unnamed: 0     Ratings         RAM         ROM  Mobile_Size  \\\n",
              "count  836.000000  805.000000  829.000000  832.000000   834.000000   \n",
              "mean   417.500000    4.103106    6.066345   64.373077     5.597282   \n",
              "std    241.476707    0.365356    2.530336   53.447825     3.898664   \n",
              "min      0.000000    2.800000    0.000000    0.000000     2.000000   \n",
              "25%    208.750000    3.800000    6.000000   32.000000     4.500000   \n",
              "50%    417.500000    4.100000    6.000000   40.000000     4.770000   \n",
              "75%    626.250000    4.400000    6.000000   64.000000     6.300000   \n",
              "max    835.000000    4.800000   34.000000  256.000000    44.000000   \n",
              "\n",
              "       Primary_Cam   Selfi_Cam  Battery_Power         Price  \n",
              "count   836.000000  567.000000     836.000000     836.00000  \n",
              "mean     47.983254    9.784832    3274.688995   18220.34689  \n",
              "std      11.170093    6.503838     927.518852   52805.55022  \n",
              "min       5.000000    0.000000    1020.000000     479.00000  \n",
              "25%      48.000000    5.000000    3000.000000     984.75000  \n",
              "50%      48.000000    8.000000    3000.000000    1697.00000  \n",
              "75%      48.000000   13.000000    3800.000000   18999.00000  \n",
              "max      64.000000   61.000000    6000.000000  573000.00000  "
            ]
          },
          "execution_count": 7,
          "metadata": {},
          "output_type": "execute_result"
        }
      ],
      "source": [
        "df.describe() # statistical data of data 836 rows ratings 805 therefore null also present"
      ]
    },
    {
      "cell_type": "code",
      "execution_count": null,
      "metadata": {
        "colab": {
          "base_uri": "https://localhost:8080/"
        },
        "id": "BWURRPer892A",
        "outputId": "cbb2e305-665c-4ad8-f550-0263aeba33f8"
      },
      "outputs": [
        {
          "data": {
            "text/plain": [
              "Unnamed: 0         0\n",
              "Brand me           0\n",
              "Ratings           31\n",
              "RAM                7\n",
              "ROM                4\n",
              "Mobile_Size        2\n",
              "Primary_Cam        0\n",
              "Selfi_Cam        269\n",
              "Battery_Power      0\n",
              "Price              0\n",
              "dtype: int64"
            ]
          },
          "execution_count": 8,
          "metadata": {},
          "output_type": "execute_result"
        }
      ],
      "source": [
        "df.isna().sum() # used to check null data \n"
      ]
    },
    {
      "cell_type": "code",
      "execution_count": null,
      "metadata": {
        "id": "CSVCKM5r9MwF"
      },
      "outputs": [],
      "source": [
        "\n"
      ]
    },
    {
      "cell_type": "code",
      "execution_count": null,
      "metadata": {
        "colab": {
          "base_uri": "https://localhost:8080/"
        },
        "id": "Y6VcwNWQ_--v",
        "outputId": "4a9cff04-54ef-41b3-a27e-6f315061fdea"
      },
      "outputs": [
        {
          "data": {
            "text/plain": [
              "Index(['Unnamed: 0', 'Brand me', 'Ratings', 'RAM', 'ROM', 'Mobile_Size',\n",
              "       'Primary_Cam', 'Selfi_Cam', 'Battery_Power', 'Price'],\n",
              "      dtype='object')"
            ]
          },
          "execution_count": 10,
          "metadata": {},
          "output_type": "execute_result"
        }
      ],
      "source": [
        "df.columns"
      ]
    },
    {
      "cell_type": "code",
      "execution_count": null,
      "metadata": {
        "id": "x9lWnXtKADOm"
      },
      "outputs": [],
      "source": [
        "df.drop('Brand me',axis=1,inplace=True)"
      ]
    },
    {
      "cell_type": "code",
      "execution_count": null,
      "metadata": {
        "id": "DQjWfODxAWVs"
      },
      "outputs": [],
      "source": [
        "df.RAM=df.RAM.astype('int64')\n"
      ]
    },
    {
      "cell_type": "code",
      "execution_count": null,
      "metadata": {
        "id": "HCC9OZSFAoQq"
      },
      "outputs": [],
      "source": []
    },
    {
      "cell_type": "code",
      "execution_count": null,
      "metadata": {
        "id": "6XextIKaAvbr"
      },
      "outputs": [],
      "source": []
    },
    {
      "cell_type": "code",
      "execution_count": null,
      "metadata": {
        "colab": {
          "base_uri": "https://localhost:8080/"
        },
        "id": "bcI_JkECA6s_",
        "outputId": "2a788d1e-2300-4046-f5d7-e36069b5e8b2"
      },
      "outputs": [
        {
          "name": "stdout",
          "output_type": "stream",
          "text": [
            "<class 'pandas.core.frame.DataFrame'>\n",
            "RangeIndex: 836 entries, 0 to 835\n",
            "Data columns (total 9 columns):\n",
            " #   Column         Non-Null Count  Dtype  \n",
            "---  ------         --------------  -----  \n",
            " 0   Unnamed: 0     836 non-null    int64  \n",
            " 1   Ratings        836 non-null    float64\n",
            " 2   RAM            836 non-null    int64  \n",
            " 3   ROM            836 non-null    int64  \n",
            " 4   Mobile_Size    836 non-null    float64\n",
            " 5   Primary_Cam    836 non-null    int64  \n",
            " 6   Selfi_Cam      836 non-null    int64  \n",
            " 7   Battery_Power  836 non-null    int64  \n",
            " 8   Price          836 non-null    int64  \n",
            "dtypes: float64(2), int64(7)\n",
            "memory usage: 58.9 KB\n"
          ]
        }
      ],
      "source": [
        "df.info()"
      ]
    },
    {
      "cell_type": "code",
      "execution_count": null,
      "metadata": {
        "id": "Cz5x9eMTFMql"
      },
      "outputs": [],
      "source": [
        "corr=df.corr()"
      ]
    },
    {
      "cell_type": "code",
      "execution_count": null,
      "metadata": {
        "id": "5Up9mmg9A8Kj"
      },
      "outputs": [],
      "source": [
        "se.set(rc={'figure.figsize':(15,8)}) # to set the figure size"
      ]
    },
    {
      "cell_type": "code",
      "execution_count": null,
      "metadata": {
        "colab": {
          "base_uri": "https://localhost:8080/",
          "height": 52
        },
        "id": "Rr41SuVdEnYF",
        "outputId": "36da5683-3be6-4f59-be3e-8312ac392f96"
      },
      "outputs": [
        {
          "data": {
            "text/plain": [
              "<Figure size 1008x1008 with 0 Axes>"
            ]
          },
          "execution_count": 18,
          "metadata": {},
          "output_type": "execute_result"
        },
        {
          "data": {
            "text/plain": [
              "<Figure size 1008x1008 with 0 Axes>"
            ]
          },
          "metadata": {},
          "output_type": "display_data"
        }
      ],
      "source": [
        "plt.figure(figsize=(14,14)) # to plot the figure using matplotlib"
      ]
    },
    {
      "cell_type": "code",
      "execution_count": null,
      "metadata": {
        "colab": {
          "base_uri": "https://localhost:8080/",
          "height": 572
        },
        "id": "0NHnjBo7E-9v",
        "outputId": "b16a6ef3-f668-42bc-d636-b3e325171866"
      },
      "outputs": [
        {
          "data": {
            "text/plain": [
              "<matplotlib.axes._subplots.AxesSubplot at 0x7efd31b8d690>"
            ]
          },
          "execution_count": 19,
          "metadata": {},
          "output_type": "execute_result"
        },
        {
          "data": {
            "image/png": "[encoded data removed]",
            "text/plain": [
              "<Figure size 1080x576 with 1 Axes>"
            ]
          },
          "metadata": {},
          "output_type": "display_data"
        }
      ],
      "source": [
        "se.heatmap(corr,cbar=False,square=True,fmt='.2%',annot=True) # to plot the heat map using attributes"
      ]
    },
    {
      "cell_type": "code",
      "execution_count": null,
      "metadata": {
        "id": "brQtD3j4FkbP"
      },
      "outputs": [],
      "source": [
        "x=df.iloc[:,2:8].values # iloc colon seh pehle saari rows ko le liyaa aur 2 seh 8 coloumns tak values sehh array meh convert kar diyaa"
      ]
    },
    {
      "cell_type": "code",
      "execution_count": null,
      "metadata": {
        "id": "fJjHgBXaHMzj"
      },
      "outputs": [],
      "source": [
        "y=df.iloc[:,-1].values # last columns ko le lenge"
      ]
    },
    {
      "cell_type": "code",
      "execution_count": null,
      "metadata": {
        "id": "r8pMlI-GHhNr"
      },
      "outputs": [],
      "source": []
    },
    {
      "cell_type": "code",
      "execution_count": null,
      "metadata": {
        "id": "6iwdNdgjIAwJ"
      },
      "outputs": [],
      "source": []
    },
    {
      "cell_type": "code",
      "execution_count": null,
      "metadata": {
        "id": "PMl4tWB2I9vM"
      },
      "outputs": [],
      "source": []
    },
    {
      "cell_type": "code",
      "execution_count": null,
      "metadata": {
        "colab": {
          "base_uri": "https://localhost:8080/"
        },
        "id": "caOsTwuBJkkJ",
        "outputId": "f3d47eaa-e0c3-462d-b2a5-1616c293376e"
      },
      "outputs": [
        {
          "data": {
            "text/plain": [
              "RandomForestClassifier(n_estimators=15, random_state=0)"
            ]
          },
          "execution_count": 25,
          "metadata": {},
          "output_type": "execute_result"
        }
      ],
      "source": []
    },
    {
      "cell_type": "code",
      "execution_count": null,
      "metadata": {
        "colab": {
          "base_uri": "https://localhost:8080/"
        },
        "id": "wYt9j3azKgpB",
        "outputId": "db9971d6-6b7a-429e-a3b1-9b10a3bf8711"
      },
      "outputs": [
        {
          "data": {
            "text/plain": [
              "0.8502994011976048"
            ]
          },
          "execution_count": 26,
          "metadata": {},
          "output_type": "execute_result"
        }
      ],
      "source": [
        "rfc.score(xtrain,ytrain)"
      ]
    },
    {
      "cell_type": "code",
      "execution_count": null,
      "metadata": {
        "colab": {
          "base_uri": "https://localhost:8080/"
        },
        "id": "AA8E9jlEKj9d",
        "outputId": "4148cd72-3d57-4eed-e23e-ba934c233531"
      },
      "outputs": [
        {
          "data": {
            "text/plain": [
              "0.44642857142857145"
            ]
          },
          "execution_count": 27,
          "metadata": {},
          "output_type": "execute_result"
        }
      ],
      "source": [
        "rfc.score(xtest,ytest)"
      ]
    },
    {
      "cell_type": "code",
      "execution_count": null,
      "metadata": {
        "colab": {
          "base_uri": "https://localhost:8080/"
        },
        "id": "bDUTgB-iKosD",
        "outputId": "c7a4293f-2f45-46d9-8f04-bde559f0f76b"
      },
      "outputs": [
        {
          "data": {
            "text/plain": [
              "DecisionTreeRegressor(random_state=42)"
            ]
          },
          "execution_count": 28,
          "metadata": {},
          "output_type": "execute_result"
        }
      ],
      "source": []
    },
    {
      "cell_type": "code",
      "execution_count": null,
      "metadata": {
        "colab": {
          "base_uri": "https://localhost:8080/"
        },
        "id": "vyQ0u2WlLUTX",
        "outputId": "4f3dda25-9274-48f8-9409-9dc88eefac47"
      },
      "outputs": [
        {
          "data": {
            "text/plain": [
              "0.9746413005435787"
            ]
          },
          "execution_count": 29,
          "metadata": {},
          "output_type": "execute_result"
        }
      ],
      "source": [
        "dtr.score(xtrain,ytrain)"
      ]
    },
    {
      "cell_type": "code",
      "execution_count": null,
      "metadata": {
        "colab": {
          "base_uri": "https://localhost:8080/"
        },
        "id": "IWLWKgP2LXAs",
        "outputId": "dce91e6f-7a9e-42d8-9fea-9a316bd7324d"
      },
      "outputs": [
        {
          "data": {
            "text/plain": [
              "0.9661461992501748"
            ]
          },
          "execution_count": 30,
          "metadata": {},
          "output_type": "execute_result"
        }
      ],
      "source": [
        "dtr.score(xtest,ytest)"
      ]
    },
    {
      "cell_type": "code",
      "execution_count": null,
      "metadata": {
        "id": "L-ezXCyvLZ0q"
      },
      "outputs": [],
      "source": [
        "import pickle\n",
        "pickle.dump(dtr,open('model.pkl','wb'))\n"
      ]
    },
    {
      "cell_type": "markdown",
      "metadata": {
        "id": "FeYtC7JGNGXV"
      },
      "source": []
    },
    {
      "cell_type": "code",
      "execution_count": null,
      "metadata": {
        "id": "K6HybA9QOeD1"
      },
      "outputs": [],
      "source": [
        "model=pickle.load(open(\"model.pkl\",'rb'))"
      ]
    },
    {
      "cell_type": "code",
      "execution_count": null,
      "metadata": {
        "colab": {
          "base_uri": "https://localhost:8080/"
        },
        "id": "PopfC2SAOoHR",
        "outputId": "6526a981-63db-4405-db81-8671ce78c8d2"
      },
      "outputs": [
        {
          "data": {
            "text/plain": [
              "13900.0"
            ]
          },
          "execution_count": 33,
          "metadata": {},
          "output_type": "execute_result"
        }
      ],
      "source": [
        "final=np.array([4,128,6.3,64,28,5000])\n",
        "prediction=model.predict(final.reshape(1,-1))\n",
        "prediction[0]"
      ]
    },
    {
      "cell_type": "code",
      "execution_count": null,
      "metadata": {
        "id": "6ePBc6ayO-cq"
      },
      "outputs": [],
      "source": []
    }
  ],
  "metadata": {
    "colab": {
      "collapsed_sections": [],
      "provenance": []
    },
    "kernelspec": {
      "display_name": "Python 3",
      "name": "python3"
    },
    "language_info": {
      "name": "python"
    }
  },
  "nbformat": 4,
  "nbformat_minor": 0
}
